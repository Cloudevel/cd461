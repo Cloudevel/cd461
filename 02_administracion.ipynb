{
 "cells": [
  {
   "cell_type": "markdown",
   "metadata": {},
   "source": [
    "# Administración de *GitHub Enterprise*."
   ]
  },
  {
   "cell_type": "markdown",
   "metadata": {},
   "source": [
    "## Prácticas recomendadas para la gestión de equipos."
   ]
  },
  {
   "cell_type": "markdown",
   "metadata": {},
   "source": [
    "La creación de equipos en su organización permite una mayor flexibilidad para la colaboración y puede facilitar la separación de repositorios y permisos. Estos son algunos procedimientos recomendados para configurar equipos en *GitHub*:\n",
    "\n",
    "* Crear equipos anidados para reflejar la jerarquía de su grupo o empresa dentro de la organización de GitHub.\n",
    "* Crear equipos basados en intereses o tecnología específica para ayudar a simplificar los procesos de revisión *pull request*.\n",
    "* Habilitar la sincronización de equipos entre el proveedor de identidades y GitHub para permitir que los propietarios de la organización y los responsables de mantenimiento del equipo conecten los equipos de su organización con grupos de proveedores de identidad.\n",
    "\n",
    "https://docs.github.com/es/enterprise-cloud@latest/organizations/organizing-members-into-teams"
   ]
  },
  {
   "cell_type": "markdown",
   "metadata": {},
   "source": [
    "## Administración a nivel de organización."
   ]
  },
  {
   "cell_type": "markdown",
   "metadata": {},
   "source": [
    "En GitHub, las organizaciones son espacios compartidos que permiten a los usuarios colaborar en muchos proyectos a la vez. Los propietarios y los administradores pueden administrar el acceso de los miembros a los datos y los repositorios de la organización con sofisticadas características de seguridad y administración.\n",
    "\n",
    "Los miembros de una organización con el permiso propietario pueden realizar una amplia variedad de actividades en el nivel de organización, entre otras:\n",
    "\n",
    "* Invitar a usuarios a unirse a la organización, así como eliminarlos.\n",
    "* Organizar a los usuarios en un equipo.\n",
    "* Agregar o quitar colaboradores externos.\n",
    "* Conceder niveles de permisos de repositorio a miembros y establecer el nivel de permiso base (predeterminado) para un repositorio determinado.\n",
    "* Configurar la seguridad de la organización.\n",
    "* Configurar la facturación o asignar un administrador de facturación para la organización.\n",
    "* Extraer información sobre los repositorios mediante el uso de scripts personalizados.\n",
    "* Aplicar cambios en toda la organización, como las migraciones, mediante el uso de scripts personalizados.\n",
    "\n",
    "Se recomienda configurar solo una organización para los usuarios y repositorios. Si las restricciones específicas de su empresa requieren que cree varias organizaciones, tenga en cuenta lo siguiente:\n",
    "\n",
    "* No es posible duplicar una organización ni compartir configuraciones entre dos organizaciones. Esto significa que debe configurar todo desde cero cada vez que cree una organización, lo que aumenta el riesgo de errores en la configuración.\n",
    "* En función de las directivas de los proveedores de software, podría incurrir en costos adicionales si necesita instalar algunas aplicaciones en varias organizaciones.\n",
    "* La administración de varias organizaciones suele ser más difícil."
   ]
  },
  {
   "cell_type": "markdown",
   "metadata": {},
   "source": [
    "## Administración en el nivel *Enterprise*."
   ]
  },
  {
   "cell_type": "markdown",
   "metadata": {},
   "source": [
    "Las cuentas *Enterpise* tanto para instancias de *GitHub Enterprise Cloud* y *Enterprise Server*, permiten a los propietarios administrar de forma centralizada la directiva y la facturación de varias organizaciones.\n",
    "\n",
    "En el nivel de empresa, los miembros de una empresa con el permiso propietario pueden:\n",
    "\n",
    "* Habilitar el inicio de sesión único de *SAML* para la cuenta de empresa, lo que permite que cada miembro de la empresa vincule su identidad externa del proveedor de identidades a su cuenta de *GitHub* existente.\n",
    "* Agregar organizaciones a la empresa o quitarlas de ella.\n",
    "* Configurar la facturación o asignar un administrador de facturación para todas las organizaciones de la empresa.\n",
    "* Configurar directivas de administración de repositorios, directivas del panel de proyecto, directivas de equipo y otras opciones de seguridad que se aplican a todas las organizaciones, repositorios y miembros de la empresa.\n",
    "* Extraer información sobre las organizaciones mediante el uso de scripts personalizados.\n",
    "* Aplicar cambios en toda la empresa, como las migraciones, mediante el uso de scripts personalizados.\n",
    "\n"
   ]
  },
  {
   "cell_type": "markdown",
   "metadata": {},
   "source": [
    "<p style=\"text-align: center\"><a rel=\"license\" href=\"http://creativecommons.org/licenses/by/4.0/\"><img alt=\"Licencia Creative Commons\" style=\"border-width:0\" src=\"https://i.creativecommons.org/l/by/4.0/80x15.png\" /></a><br />Esta obra está bajo una <a rel=\"license\" href=\"http://creativecommons.org/licenses/by/4.0/\">Licencia Creative Commons Atribución 4.0 Internacional</a>.</p>\n",
    "<p style=\"text-align: center\">&copy; José Luis Chiquete Valdivieso. 2023.</p>"
   ]
  }
 ],
 "metadata": {
  "kernelspec": {
   "display_name": "Bash",
   "language": "bash",
   "name": "bash"
  },
  "language_info": {
   "codemirror_mode": "shell",
   "file_extension": ".sh",
   "mimetype": "text/x-sh",
   "name": "bash"
  }
 },
 "nbformat": 4,
 "nbformat_minor": 2
}
