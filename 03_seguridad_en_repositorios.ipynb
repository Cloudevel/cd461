{
 "cells": [
  {
   "cell_type": "markdown",
   "metadata": {},
   "source": [
    "# Seguridad en repositorios."
   ]
  },
  {
   "cell_type": "markdown",
   "metadata": {},
   "source": [
    "*GitHub* tiene características de seguridad que ayudan a mantener seguros el código y los secretos en los repositorios y a través de las organizaciones. Algunas características están disponibles para los repositorios en todos los planes. \n",
    "\n",
    "Las características adicionales se encuentran disponibles para las cuentas *Enterprise* que utilizan [*GitHub Advanced Security*](https://docs.github.com/es/get-started/learning-about-github/about-github-advanced-security) con costo adicional."
   ]
  },
  {
   "cell_type": "markdown",
   "metadata": {},
   "source": [
    "## Políticas de seguridad."
   ]
  },
  {
   "cell_type": "markdown",
   "metadata": {},
   "source": [
    "Es posible fijar ciertas políticas de seguridad específicas a cada repositorio de una organización con la finalidad de prevenir vulnerabilidades.\n",
    "\n",
    "* https://docs.github.com/es/enterprise-cloud@latest/code-security/getting-started/adding-a-security-policy-to-your-repository"
   ]
  },
  {
   "cell_type": "markdown",
   "metadata": {},
   "source": [
    "## Avisos de seguridad."
   ]
  },
  {
   "cell_type": "markdown",
   "metadata": {},
   "source": [
    "Esta funcionalida permite abrir discusiones y proponer correciones en temas de seguridaden un repositorio.\n",
    "\n",
    "* https://docs.github.com/es/enterprise-cloud@latest/code-security/security-advisories/repository-security-advisories/about-repository-security-advisories\n",
    "* https://docs.github.com/es/enterprise-cloud@latest/code-security/security-advisories/repository-security-advisories/creating-a-repository-security-advisory"
   ]
  },
  {
   "cell_type": "markdown",
   "metadata": {},
   "source": [
    "## *Dependabot*."
   ]
  },
  {
   "cell_type": "markdown",
   "metadata": {},
   "source": [
    "Este servicio está disponible para todas las versiones de *GitHub* y permite realizar un análisis de dependencias de un repositorio con la finalidad de detectar bibliotecas vulnerables. Al encontrar una vulnerabildiad, *Dependabot* emitirá un aviso.\n",
    "\n",
    "* https://docs.github.com/es/enterprise-cloud@latest/code-security/dependabot/dependabot-alerts/about-dependabot-alerts"
   ]
  },
  {
   "cell_type": "markdown",
   "metadata": {},
   "source": [
    "## Solicitud de *pull request* de *Dependabot*.\n",
    "\n",
    "\n",
    "Es posible confifgurar *Dependabot* para enviar *pull requests* al repositorio con las versiones de las bibliotecas que no contengan vulnerabildiades.\n",
    "\n",
    "* https://docs.github.com/es/enterprise-cloud@latest/code-security/dependabot/dependabot-version-updates/about-dependabot-version-updates"
   ]
  },
  {
   "cell_type": "markdown",
   "metadata": {},
   "source": [
    "## Grafo de dependencias."
   ]
  },
  {
   "cell_type": "markdown",
   "metadata": {},
   "source": [
    "El grafo de dependencias permite explorar los ecosistemas y paquetes de los cuales depende un repositorio y los repositorios y paquetes que dependen del repositorio.\n",
    "\n",
    "Si tienes al menos acceso de lectura al repositorio, puedes exportar el gráfico de dependencias para este como lista de materiales de software (SBOM) compatible.\n",
    "\n",
    "* https://docs.github.com/es/enterprise-cloud@latest/code-security/supply-chain-security/understanding-your-software-supply-chain/about-the-dependency-graph\n",
    "* https://docs.github.com/es/enterprise-cloud@latest/code-security/supply-chain-security/understanding-your-software-supply-chain/exporting-a-software-bill-of-materials-for-your-repository"
   ]
  },
  {
   "cell_type": "markdown",
   "metadata": {},
   "source": [
    "## Alerta de secretos expuestos. "
   ]
  },
  {
   "cell_type": "markdown",
   "metadata": {},
   "source": [
    "En todas las versiones de *GitHub* se cuenta con el servicio de detección automática de secretos filtrados en todos los repositorios públicos. \n",
    "\n",
    "*GitHub* informa al proveedor de servicios relevante que los secretos podrían haberse puesto en riesgo. Para obtener más información sobre los secretos y proveedores de servicios admitidos, consulta \"Patrones de análisis de secretos\"."
   ]
  },
  {
   "cell_type": "markdown",
   "metadata": {},
   "source": [
    "## *GitHub Advanced Security*. "
   ]
  },
  {
   "cell_type": "markdown",
   "metadata": {},
   "source": [
    "GitHub tiene muchas características que permiten mejorar y mantener la calidad del código. Algunas de ellas se incluyen en todos los planes, como el gráfico de dependencias y las *Dependabot alerts*. Otras características de seguridad requieren una licencia de *GitHub Advanced Security* (GHAS) para ejecutarse en otros repositorios aparte de los públicos de GitHub.com\n",
    "\n",
    "* https://docs.github.com/es/enterprise-cloud@latest/get-started/learning-about-github/about-github-advanced-security#acerca-de-las-caracter%C3%ADsticas-de-advanced-security"
   ]
  },
  {
   "cell_type": "markdown",
   "metadata": {},
   "source": [
    "<p style=\"text-align: center\"><a rel=\"license\" href=\"http://creativecommons.org/licenses/by/4.0/\"><img alt=\"Licencia Creative Commons\" style=\"border-width:0\" src=\"https://i.creativecommons.org/l/by/4.0/80x15.png\" /></a><br />Esta obra está bajo una <a rel=\"license\" href=\"http://creativecommons.org/licenses/by/4.0/\">Licencia Creative Commons Atribución 4.0 Internacional</a>.</p>\n",
    "<p style=\"text-align: center\">&copy; José Luis Chiquete Valdivieso. 2023.</p>"
   ]
  }
 ],
 "metadata": {
  "kernelspec": {
   "display_name": "Bash",
   "language": "bash",
   "name": "bash"
  },
  "language_info": {
   "codemirror_mode": "shell",
   "file_extension": ".sh",
   "mimetype": "text/x-sh",
   "name": "bash"
  }
 },
 "nbformat": 4,
 "nbformat_minor": 2
}
