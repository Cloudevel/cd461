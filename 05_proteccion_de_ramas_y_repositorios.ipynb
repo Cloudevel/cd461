{
 "cells": [
  {
   "cell_type": "markdown",
   "metadata": {},
   "source": [
    "# Protección de ramas y de repositorios."
   ]
  },
  {
   "cell_type": "markdown",
   "metadata": {},
   "source": [
    "La gestión de repositorios es un tema que cubre múltiples aspectos y buenas prácticas.\n",
    "\n",
    "https://docs.github.com/es/repositories"
   ]
  },
  {
   "cell_type": "markdown",
   "metadata": {},
   "source": [
    "## Protección de ramas."
   ]
  },
  {
   "cell_type": "markdown",
   "metadata": {},
   "source": [
    "Existen mútliples opciones para proteger las ramas de un repositorio.\n",
    "\n",
    "La documentación completa puede ser consultada desde:\n",
    "\n",
    "* https://docs.github.com/es/repositories/configuring-branches-and-merges-in-your-repository/managing-protected-branches/about-protected-branches\n",
    "\n",
    "Las opciones de protección dson la siguientes:"
   ]
  },
  {
   "cell_type": "markdown",
   "metadata": {},
   "source": [
    "* [Revisiones de *pull requests* obligatorios antes del *merge*](https://docs.github.com/es/repositories/configuring-branches-and-merges-in-your-repository/managing-protected-branches/about-protected-branches#require-pull-request-reviews-before-merging).\n",
    "* [Requerir verificaciones de estado antes fusionar.](https://docs.github.com/es/repositories/configuring-branches-and-merges-in-your-repository/managing-protected-branches/about-protected-branches#require-status-checks-before-merging).\n",
    "* [Requerir la resolución de conversaciones antes de fusionar](https://docs.github.com/es/repositories/configuring-branches-and-merges-in-your-repository/managing-protected-branches/about-protected-branches#require-conversation-resolution-before-merging).\n",
    "* [Aceptar sólo *commits* firmados](https://docs.github.com/es/repositories/configuring-branches-and-merges-in-your-repository/managing-protected-branches/about-protected-branches#require-signed-commits).\n",
    "* [Historial lineal obligatorio](https://docs.github.com/es/repositories/configuring-branches-and-merges-in-your-repository/managing-protected-branches/about-protected-branches#require-linear-history).\n",
    "* [Cola de *merges* obligatoria](https://docs.github.com/es/repositories/configuring-branches-and-merges-in-your-repository/managing-protected-branches/about-protected-branches#require-merge-queue).\n",
    "* [Requerir obligatoriamente despliegues (*deployments*) correctos antes del *merge*](https://docs.github.com/es/repositories/configuring-branches-and-merges-in-your-repository/managing-protected-branches/about-protected-branches#require-deployments-to-succeed-before-merging).\n",
    "* [Bloqueo de ramas](https://docs.github.com/es/repositories/configuring-branches-and-merges-in-your-repository/managing-protected-branches/about-protected-branches#lock-branch).\n",
    "   * [Deshabilitar la anulación del boqueo de rama por administradores](https://docs.github.com/es/repositories/configuring-branches-and-merges-in-your-repository/managing-protected-branches/about-protected-branches#do-not-allow-bypassing-the-above-settings).\n",
    "* [Restricción de quiénes pueden realizar *push* en ramas coincidentes](https://docs.github.com/es/repositories/configuring-branches-and-merges-in-your-repository/managing-protected-branches/about-protected-branches#restrict-who-can-push-to-matching-branches).\n",
    "* [Autorización para hacer *push* forzados](https://docs.github.com/es/repositories/configuring-branches-and-merges-in-your-repository/managing-protected-branches/about-protected-branches#allow-force-pushes).\n",
    "* [Definir quiénes pueden borrar ramas](https://docs.github.com/es/repositories/configuring-branches-and-merges-in-your-repository/managing-protected-branches/about-protected-branches#allow-deletions). \n"
   ]
  },
  {
   "cell_type": "markdown",
   "metadata": {},
   "source": [
    "## El archivo ```CODEOWNERS```."
   ]
  },
  {
   "cell_type": "markdown",
   "metadata": {},
   "source": [
    "Las personas con permisos administrativos o de propietario pueden configurar un archivo ```CODEOWNERS``` en un repositorio.\n",
    "\n",
    "Los propietarios del código deben tener permisos de escritura para el repositorio. Cuando el propietario del código es un equipo, ese equipo debe ser visible y tener permisos de escritura, incluso si todos los miembros individuales del equipo ya tienen permisos de escritura, a través de la membresía de la organización o a través de la membresía de otro equipo.\n",
    "\n",
    "\n",
    "\n",
    "\n",
    "Cuando alguien con permisos administrativos o de propietario ha activado las revisiones requeridas, opcionalmente, también pueden solicitar aprobación de un propietario del código antes de que el autor pueda fusionar una solicitud de extracción en el repositorio.\n",
    "\n",
    "Al solicitar un *pull request* en un repositorio, automáticamente se solicita una revisión a los propietarios del mismo."
   ]
  },
  {
   "cell_type": "markdown",
   "metadata": {},
   "source": [
    "El archivo ```CODEOWNER``` permite definir a los equipos, o identidades que son porpietarios de ciertos directorios del repositorio. La documentación de dicho archivo puede ser consultada desde:\n",
    "\n",
    "* https://docs.github.com/es/repositories/managing-your-repositorys-settings-and-features/customizing-your-repository/about-code-owners"
   ]
  },
  {
   "cell_type": "markdown",
   "metadata": {},
   "source": [
    "**Ejemplo**\n",
    "\n",
    "```\n",
    "*       @global-owner1 @global-owner2\n",
    "\n",
    "*.js    @js-owner\n",
    "\n",
    "*.go docs@example.com\n",
    "\n",
    "*.txt @octo-org/octocats\n",
    "\n",
    "/build/logs/ @doctocat\n",
    "\n",
    "docs/*  docs@example.com\n",
    "\n",
    "apps/ @octocat\n",
    "\n",
    "/docs/ @doctocat\n",
    "\n",
    "/scripts/ @doctocat @octocat\n",
    "\n",
    "**/logs @octocat\n",
    "\n",
    "/apps/github\n",
    "```"
   ]
  },
  {
   "cell_type": "markdown",
   "metadata": {},
   "source": [
    "* https://docs.github.com/es/repositories/managing-your-repositorys-settings-and-features/customizing-your-repository/about-code-owners"
   ]
  },
  {
   "cell_type": "markdown",
   "metadata": {},
   "source": [
    "<p style=\"text-align: center\"><a rel=\"license\" href=\"http://creativecommons.org/licenses/by/4.0/\"><img alt=\"Licencia Creative Commons\" style=\"border-width:0\" src=\"https://i.creativecommons.org/l/by/4.0/80x15.png\" /></a><br />Esta obra está bajo una <a rel=\"license\" href=\"http://creativecommons.org/licenses/by/4.0/\">Licencia Creative Commons Atribución 4.0 Internacional</a>.</p>\n",
    "<p style=\"text-align: center\">&copy; José Luis Chiquete Valdivieso. 2023.</p>"
   ]
  }
 ],
 "metadata": {
  "kernelspec": {
   "display_name": "Bash",
   "language": "bash",
   "name": "bash"
  },
  "language_info": {
   "codemirror_mode": "shell",
   "file_extension": ".sh",
   "mimetype": "text/x-sh",
   "name": "bash"
  }
 },
 "nbformat": 4,
 "nbformat_minor": 2
}
